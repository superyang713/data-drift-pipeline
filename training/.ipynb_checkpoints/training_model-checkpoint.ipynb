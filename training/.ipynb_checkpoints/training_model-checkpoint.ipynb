{
 "cells": [
  {
   "cell_type": "markdown",
   "id": "5250f2d3",
   "metadata": {},
   "source": [
    "# Load package"
   ]
  },
  {
   "cell_type": "code",
   "execution_count": 11,
   "id": "144645e6",
   "metadata": {},
   "outputs": [],
   "source": [
    "import os\n",
    "from pathlib import Path\n",
    "import datetime as dt\n",
    "import joblib\n",
    "\n",
    "import pandas as pd\n",
    "import matplotlib.pyplot as plt\n",
    "\n",
    "from sklearn.ensemble import RandomForestRegressor\n",
    "from sklearn.metrics import mean_absolute_error\n",
    "\n",
    "from google.cloud import storage, bigquery\n"
   ]
  },
  {
   "cell_type": "markdown",
   "id": "5701ccfa",
   "metadata": {},
   "source": [
    "# Load common parameters"
   ]
  },
  {
   "cell_type": "code",
   "execution_count": 16,
   "id": "9b958bc7",
   "metadata": {},
   "outputs": [],
   "source": [
    "PROJECT = \"mightyhive-data-science-poc\"\n",
    "TABLE_ID = f\"{PROJECT}.data_drift_demo.bike_sharing\"\n",
    "SERVICE_PATH = Path.home().joinpath(\".ssh\", \"mightyhive.json\")\n",
    "BUCKET_NAME = \"data-drift-detection\"\n",
    "MODEL_FILE_NAME = \"model.sav\""
   ]
  },
  {
   "cell_type": "markdown",
   "id": "b5bee32d",
   "metadata": {},
   "source": [
    "# Load training data from BigQuery"
   ]
  },
  {
   "cell_type": "code",
   "execution_count": 3,
   "id": "718ca93b",
   "metadata": {},
   "outputs": [],
   "source": [
    "def load_data_from_bigquery(table_id, start=None, end=None):\n",
    "    bq_client = bigquery.Client().from_service_account_json(SERVICE_PATH)\n",
    "    query = (\n",
    "        f\"\"\"\n",
    "        SELECT\n",
    "          count,\n",
    "          temp,\n",
    "          atemp,\n",
    "          humidity,\n",
    "          windspeed,\n",
    "          season,\n",
    "          holiday,\n",
    "          workingday,\n",
    "          EXTRACT(DAYOFWEEK FROM datetime) AS weekday,\n",
    "          EXTRACT(HOUR FROM datetime) AS hour,\n",
    "        FROM\n",
    "          `{table_id}`\n",
    "        \"\"\"\n",
    "    )\n",
    "\n",
    "    if start and end:\n",
    "        query = (\n",
    "            f\"\"\"\n",
    "            {query}\n",
    "            WHERE DATE(datetime) BETWEEN \"{start}\" and \"{end}\"\n",
    "            \"\"\"\n",
    "        )\n",
    "    df= bq_client.query(query).result().to_dataframe()\n",
    "    return df"
   ]
  },
  {
   "cell_type": "code",
   "execution_count": 4,
   "id": "43eada42",
   "metadata": {},
   "outputs": [],
   "source": [
    "start = \"2011-01-01\"\n",
    "end = \"2011-01-28\"\n",
    "df = load_data_from_bigquery(TABLE_ID, start, end)"
   ]
  },
  {
   "cell_type": "code",
   "execution_count": 5,
   "id": "749e62f4",
   "metadata": {},
   "outputs": [
    {
     "data": {
      "text/html": [
       "<div>\n",
       "<style scoped>\n",
       "    .dataframe tbody tr th:only-of-type {\n",
       "        vertical-align: middle;\n",
       "    }\n",
       "\n",
       "    .dataframe tbody tr th {\n",
       "        vertical-align: top;\n",
       "    }\n",
       "\n",
       "    .dataframe thead th {\n",
       "        text-align: right;\n",
       "    }\n",
       "</style>\n",
       "<table border=\"1\" class=\"dataframe\">\n",
       "  <thead>\n",
       "    <tr style=\"text-align: right;\">\n",
       "      <th></th>\n",
       "      <th>count</th>\n",
       "      <th>temp</th>\n",
       "      <th>atemp</th>\n",
       "      <th>humidity</th>\n",
       "      <th>windspeed</th>\n",
       "      <th>season</th>\n",
       "      <th>holiday</th>\n",
       "      <th>workingday</th>\n",
       "      <th>weekday</th>\n",
       "      <th>hour</th>\n",
       "    </tr>\n",
       "  </thead>\n",
       "  <tbody>\n",
       "    <tr>\n",
       "      <th>0</th>\n",
       "      <td>56</td>\n",
       "      <td>14.76</td>\n",
       "      <td>16.665</td>\n",
       "      <td>81</td>\n",
       "      <td>19.0012</td>\n",
       "      <td>1</td>\n",
       "      <td>0</td>\n",
       "      <td>0</td>\n",
       "      <td>7</td>\n",
       "      <td>11</td>\n",
       "    </tr>\n",
       "    <tr>\n",
       "      <th>1</th>\n",
       "      <td>70</td>\n",
       "      <td>14.76</td>\n",
       "      <td>16.665</td>\n",
       "      <td>71</td>\n",
       "      <td>16.9979</td>\n",
       "      <td>1</td>\n",
       "      <td>0</td>\n",
       "      <td>0</td>\n",
       "      <td>1</td>\n",
       "      <td>11</td>\n",
       "    </tr>\n",
       "    <tr>\n",
       "      <th>2</th>\n",
       "      <td>93</td>\n",
       "      <td>14.76</td>\n",
       "      <td>16.665</td>\n",
       "      <td>66</td>\n",
       "      <td>19.9995</td>\n",
       "      <td>1</td>\n",
       "      <td>0</td>\n",
       "      <td>0</td>\n",
       "      <td>1</td>\n",
       "      <td>12</td>\n",
       "    </tr>\n",
       "    <tr>\n",
       "      <th>3</th>\n",
       "      <td>53</td>\n",
       "      <td>14.76</td>\n",
       "      <td>16.665</td>\n",
       "      <td>46</td>\n",
       "      <td>22.0028</td>\n",
       "      <td>1</td>\n",
       "      <td>0</td>\n",
       "      <td>0</td>\n",
       "      <td>1</td>\n",
       "      <td>18</td>\n",
       "    </tr>\n",
       "    <tr>\n",
       "      <th>4</th>\n",
       "      <td>197</td>\n",
       "      <td>14.76</td>\n",
       "      <td>16.665</td>\n",
       "      <td>57</td>\n",
       "      <td>22.0028</td>\n",
       "      <td>1</td>\n",
       "      <td>0</td>\n",
       "      <td>1</td>\n",
       "      <td>4</td>\n",
       "      <td>17</td>\n",
       "    </tr>\n",
       "  </tbody>\n",
       "</table>\n",
       "</div>"
      ],
      "text/plain": [
       "   count   temp   atemp  humidity  windspeed  season  holiday  workingday  \\\n",
       "0     56  14.76  16.665        81    19.0012       1        0           0   \n",
       "1     70  14.76  16.665        71    16.9979       1        0           0   \n",
       "2     93  14.76  16.665        66    19.9995       1        0           0   \n",
       "3     53  14.76  16.665        46    22.0028       1        0           0   \n",
       "4    197  14.76  16.665        57    22.0028       1        0           1   \n",
       "\n",
       "   weekday  hour  \n",
       "0        7    11  \n",
       "1        1    11  \n",
       "2        1    12  \n",
       "3        1    18  \n",
       "4        4    17  "
      ]
     },
     "execution_count": 5,
     "metadata": {},
     "output_type": "execute_result"
    }
   ],
   "source": [
    "df.head()"
   ]
  },
  {
   "cell_type": "code",
   "execution_count": 6,
   "id": "170f811b",
   "metadata": {},
   "outputs": [],
   "source": [
    "X = df.drop([\"count\"], axis=1)\n",
    "y = df[\"count\"]"
   ]
  },
  {
   "cell_type": "markdown",
   "id": "1ecad214",
   "metadata": {},
   "source": [
    "# Train a regression model"
   ]
  },
  {
   "cell_type": "code",
   "execution_count": 7,
   "id": "dca5c260",
   "metadata": {},
   "outputs": [
    {
     "data": {
      "text/plain": [
       "RandomForestRegressor(n_estimators=50, random_state=0)"
      ]
     },
     "execution_count": 7,
     "metadata": {},
     "output_type": "execute_result"
    }
   ],
   "source": [
    "# train regressor model\n",
    "regressor = RandomForestRegressor(random_state=0, n_estimators=50)\n",
    "regressor.fit(X, y)"
   ]
  },
  {
   "cell_type": "markdown",
   "id": "52c4b4c4",
   "metadata": {},
   "source": [
    "# Save the model to GCS"
   ]
  },
  {
   "cell_type": "code",
   "execution_count": 13,
   "id": "4db57dcc",
   "metadata": {},
   "outputs": [],
   "source": [
    "_ = joblib.dump(regressor, MODEL_FILE_NAME)"
   ]
  },
  {
   "cell_type": "code",
   "execution_count": 17,
   "id": "fe99391b",
   "metadata": {},
   "outputs": [
    {
     "name": "stdout",
     "output_type": "stream",
     "text": [
      "File model.sav uploaded to model.sav.\n"
     ]
    }
   ],
   "source": [
    "def upload_blob(bucket_name, source_file_name, destination_blob_name):\n",
    "    \"\"\"Uploads a file to the bucket.\"\"\"\n",
    "    storage_client = storage.Client()\n",
    "    bucket = storage_client.bucket(bucket_name)\n",
    "    blob = bucket.blob(destination_blob_name)\n",
    "\n",
    "    blob.upload_from_filename(source_file_name)\n",
    "\n",
    "    print(\n",
    "        \"File {} uploaded to {}.\".format(\n",
    "            source_file_name, destination_blob_name\n",
    "        )\n",
    "    )\n",
    "    \n",
    "upload_blob(BUCKET_NAME, MODEL_FILE_NAME, MODEL_FILE_NAME)"
   ]
  },
  {
   "cell_type": "markdown",
   "id": "55c7b9de",
   "metadata": {},
   "source": [
    "# The model performance over time"
   ]
  },
  {
   "cell_type": "code",
   "execution_count": 8,
   "id": "9f5adb13",
   "metadata": {},
   "outputs": [],
   "source": [
    "def load_nth_four_weeks_data(table_id, n):\n",
    "    \"\"\"\n",
    "    n: the nth interval. When n = 0, it is the training data.\n",
    "    \"\"\"\n",
    "    interval = dt.timedelta(days=28)\n",
    "    start = dt.date(2011, 1, 1) + interval * n\n",
    "    end = start + interval\n",
    "    df = load_data_from_bigquery(table_id, start, end)\n",
    "    return df"
   ]
  },
  {
   "cell_type": "code",
   "execution_count": 9,
   "id": "80e1fa72",
   "metadata": {},
   "outputs": [],
   "source": [
    "def calculate_mae_nth_four_weeks_data(table_id, n, model):\n",
    "    print(f\"Calculating batch {n}\")\n",
    "    df = load_nth_four_weeks_data(table_id, n)\n",
    "    X = df.drop([\"count\"], axis=1)\n",
    "    y = df[\"count\"]\n",
    "    y_pred = model.predict(X)\n",
    "    mae = mean_absolute_error(y, y_pred)\n",
    "    return mae"
   ]
  },
  {
   "cell_type": "code",
   "execution_count": 10,
   "id": "495daf84",
   "metadata": {},
   "outputs": [
    {
     "name": "stdout",
     "output_type": "stream",
     "text": [
      "Calculating batch 0\n",
      "Calculating batch 1\n",
      "Calculating batch 2\n",
      "Calculating batch 3\n",
      "Calculating batch 4\n",
      "Calculating batch 5\n",
      "Calculating batch 6\n",
      "Calculating batch 7\n",
      "Calculating batch 8\n",
      "Calculating batch 9\n",
      "Calculating batch 10\n",
      "Calculating batch 11\n",
      "Calculating batch 12\n",
      "Calculating batch 13\n",
      "Calculating batch 14\n",
      "Calculating batch 15\n",
      "Calculating batch 16\n",
      "Calculating batch 17\n",
      "Calculating batch 18\n",
      "Calculating batch 19\n"
     ]
    },
    {
     "data": {
      "text/plain": [
       "<matplotlib.collections.PathCollection at 0x7fee13e12610>"
      ]
     },
     "execution_count": 10,
     "metadata": {},
     "output_type": "execute_result"
    },
    {
     "data": {
      "image/png": "[encoded data removed]",
      "text/plain": [
       "<Figure size 432x288 with 1 Axes>"
      ]
     },
     "metadata": {
      "needs_background": "light"
     },
     "output_type": "display_data"
    }
   ],
   "source": [
    "# mae on the training data\n",
    "n_batch = 20\n",
    "maes = [\n",
    "    calculate_mae_nth_four_weeks_data(TABLE_ID, i, regressor) \n",
    "    for i in range(n_batch)\n",
    "]\n",
    "plt.plot(range(n_batch), maes)\n",
    "plt.scatter(range(n_batch), maes)"
   ]
  },
  {
   "cell_type": "code",
   "execution_count": null,
   "id": "bbc28aad",
   "metadata": {},
   "outputs": [],
   "source": []
  }
 ],
 "metadata": {
  "kernelspec": {
   "display_name": "Python 3 (ipykernel)",
   "language": "python",
   "name": "python3"
  },
  "language_info": {
   "codemirror_mode": {
    "name": "ipython",
    "version": 3
   },
   "file_extension": ".py",
   "mimetype": "text/x-python",
   "name": "python",
   "nbconvert_exporter": "python",
   "pygments_lexer": "ipython3",
   "version": "3.8.12"
  }
 },
 "nbformat": 4,
 "nbformat_minor": 5
}
